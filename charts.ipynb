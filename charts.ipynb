{
 "cells": [
  {
   "cell_type": "code",
   "execution_count": 2,
   "metadata": {
    "collapsed": false
   },
   "outputs": [
    {
     "name": "stdout",
     "output_type": "stream",
     "text": [
      "Populating the interactive namespace from numpy and matplotlib\n"
     ]
    }
   ],
   "source": [
    "%pylab inline\n",
    "import json\n",
    "import pandas as pd"
   ]
  },
  {
   "cell_type": "code",
   "execution_count": 3,
   "metadata": {
    "collapsed": false
   },
   "outputs": [
    {
     "data": {
      "text/html": [
       "<div>\n",
       "<table border=\"1\" class=\"dataframe\">\n",
       "  <thead>\n",
       "    <tr style=\"text-align: right;\">\n",
       "      <th></th>\n",
       "      <th>county</th>\n",
       "      <th>destination</th>\n",
       "      <th>destinationnumber</th>\n",
       "      <th>name</th>\n",
       "      <th>percentage</th>\n",
       "      <th>private</th>\n",
       "      <th>totalnumber</th>\n",
       "    </tr>\n",
       "  </thead>\n",
       "  <tbody>\n",
       "    <tr>\n",
       "      <th>0</th>\n",
       "      <td>Carlow</td>\n",
       "      <td>Royal College of Surgeons</td>\n",
       "      <td>1</td>\n",
       "      <td>St Leo's College</td>\n",
       "      <td>100%</td>\n",
       "      <td>False</td>\n",
       "      <td>134</td>\n",
       "    </tr>\n",
       "    <tr>\n",
       "      <th>1</th>\n",
       "      <td>Carlow</td>\n",
       "      <td>NUI Galway</td>\n",
       "      <td>4</td>\n",
       "      <td>St Leo's College</td>\n",
       "      <td>100%</td>\n",
       "      <td>False</td>\n",
       "      <td>134</td>\n",
       "    </tr>\n",
       "    <tr>\n",
       "      <th>2</th>\n",
       "      <td>Carlow</td>\n",
       "      <td>St. Angela's Sligo</td>\n",
       "      <td>1</td>\n",
       "      <td>St Leo's College</td>\n",
       "      <td>100%</td>\n",
       "      <td>False</td>\n",
       "      <td>134</td>\n",
       "    </tr>\n",
       "    <tr>\n",
       "      <th>3</th>\n",
       "      <td>Carlow</td>\n",
       "      <td>Maynooth University</td>\n",
       "      <td>17</td>\n",
       "      <td>St Leo's College</td>\n",
       "      <td>100%</td>\n",
       "      <td>False</td>\n",
       "      <td>134</td>\n",
       "    </tr>\n",
       "    <tr>\n",
       "      <th>4</th>\n",
       "      <td>Carlow</td>\n",
       "      <td>University College Dublin</td>\n",
       "      <td>5</td>\n",
       "      <td>St Leo's College</td>\n",
       "      <td>100%</td>\n",
       "      <td>False</td>\n",
       "      <td>134</td>\n",
       "    </tr>\n",
       "  </tbody>\n",
       "</table>\n",
       "</div>"
      ],
      "text/plain": [
       "    county                destination  destinationnumber              name  \\\n",
       "0   Carlow  Royal College of Surgeons                  1  St Leo's College   \n",
       "1   Carlow                 NUI Galway                  4  St Leo's College   \n",
       "2   Carlow         St. Angela's Sligo                  1  St Leo's College   \n",
       "3   Carlow        Maynooth University                 17  St Leo's College   \n",
       "4   Carlow  University College Dublin                  5  St Leo's College   \n",
       "\n",
       "  percentage private  totalnumber  \n",
       "0       100%   False          134  \n",
       "1       100%   False          134  \n",
       "2       100%   False          134  \n",
       "3       100%   False          134  \n",
       "4       100%   False          134  "
      ]
     },
     "execution_count": 3,
     "metadata": {},
     "output_type": "execute_result"
    }
   ],
   "source": [
    "schoolframe = pd.read_json('schoolsdupe.json')\n",
    "\n",
    "schoolframe.head()"
   ]
  },
  {
   "cell_type": "code",
   "execution_count": 7,
   "metadata": {
    "collapsed": false
   },
   "outputs": [
    {
     "data": {
      "text/plain": [
       "destination\n",
       "Athlone IT                              5\n",
       "Cork IT                                 2\n",
       "Dublin City University                 46\n",
       "Dublin Institute of Technology         17\n",
       "Dun Laoghaire IADT                      9\n",
       "Dundalk IT                              3\n",
       "Galway-Mayo IT                          7\n",
       "IT Blanchardstown                       2\n",
       "IT Carlow                             182\n",
       "IT Sligo                                1\n",
       "IT Tralee                               3\n",
       "Letterkenny IT                          1\n",
       "Limerick IT                             3\n",
       "Marino Institute of Education           4\n",
       "Mary Immaculate Limerick                1\n",
       "Maynooth University                    63\n",
       "NUI Galway                             22\n",
       "National College of Art and Design      4\n",
       "National College of Ireland             2\n",
       "Royal College of Surgeons               2\n",
       "St. Angela's Sligo                      2\n",
       "Trinity College Dublin                 27\n",
       "University College Cork                15\n",
       "University College Dublin              34\n",
       "University of Limerick                 17\n",
       "University of Ulster                    1\n",
       "Waterford Institue of Technology       82\n",
       "Name: destinationnumber, dtype: int64"
      ]
     },
     "execution_count": 7,
     "metadata": {},
     "output_type": "execute_result"
    }
   ],
   "source": [
    "schoolframe[schoolframe['county'].str.contains('Carlow')].groupby('destination').sum()['destinationnumber']"
   ]
  },
  {
   "cell_type": "code",
   "execution_count": 10,
   "metadata": {
    "collapsed": false
   },
   "outputs": [
    {
     "data": {
      "text/plain": [
       "destination\n",
       "Athlone IT                               11\n",
       "Church of Ireland College                 9\n",
       "Cork IT                                  87\n",
       "Dublin City University                  243\n",
       "Dublin Institute of Technology          553\n",
       "Dun Laoghaire IADT                      108\n",
       "Dundalk IT                               39\n",
       "Galway-Mayo IT                           14\n",
       "IT Blanchardstown                        23\n",
       "IT Carlow                                21\n",
       "IT Sligo                                 28\n",
       "IT Tallaght                              70\n",
       "IT Tralee                                20\n",
       "Letterkenny IT                            8\n",
       "Limerick IT                              37\n",
       "Marino Institute of Education             9\n",
       "Mary Immaculate Limerick                 11\n",
       "Maynooth University                     173\n",
       "NUI Galway                              150\n",
       "National College of Art and Design       31\n",
       "National College of Ireland              46\n",
       "Queen's University, Belfast               3\n",
       "Royal College of Surgeons                22\n",
       "Shannon College of Hotel Management       8\n",
       "St. Angela's Sligo                        2\n",
       "Trinity College Dublin                  704\n",
       "University College Cork                 311\n",
       "University College Dublin              1049\n",
       "University of Limerick                   80\n",
       "University of Ulster                      5\n",
       "Waterford Institue of Technology         19\n",
       "Name: destinationnumber, dtype: int64"
      ]
     },
     "execution_count": 10,
     "metadata": {},
     "output_type": "execute_result"
    }
   ],
   "source": [
    "schoolframe[schoolframe['private'].str.contains('True')].groupby('destination').sum()['destinationnumber']"
   ]
  },
  {
   "cell_type": "code",
   "execution_count": 13,
   "metadata": {
    "collapsed": false
   },
   "outputs": [
    {
     "data": {
      "text/plain": [
       "3894"
      ]
     },
     "execution_count": 13,
     "metadata": {},
     "output_type": "execute_result"
    }
   ],
   "source": [
    "schoolframe[schoolframe['private'].str.contains('True')].sum()['destinationnumber']"
   ]
  },
  {
   "cell_type": "code",
   "execution_count": 15,
   "metadata": {
    "collapsed": false
   },
   "outputs": [
    {
     "data": {
      "text/plain": [
       "destination\n",
       "Athlone IT                              0.282486\n",
       "Church of Ireland College               0.231125\n",
       "Cork IT                                 2.234206\n",
       "Dublin City University                  6.240370\n",
       "Dublin Institute of Technology         14.201335\n",
       "Dun Laoghaire IADT                      2.773498\n",
       "Dundalk IT                              1.001541\n",
       "Galway-Mayo IT                          0.359527\n",
       "IT Blanchardstown                       0.590652\n",
       "IT Carlow                               0.539291\n",
       "IT Sligo                                0.719055\n",
       "IT Tallaght                             1.797637\n",
       "IT Tralee                               0.513611\n",
       "Letterkenny IT                          0.205444\n",
       "Limerick IT                             0.950180\n",
       "Marino Institute of Education           0.231125\n",
       "Mary Immaculate Limerick                0.282486\n",
       "Maynooth University                     4.442732\n",
       "NUI Galway                              3.852080\n",
       "National College of Art and Design      0.796097\n",
       "National College of Ireland             1.181305\n",
       "Queen's University, Belfast             0.077042\n",
       "Royal College of Surgeons               0.564972\n",
       "Shannon College of Hotel Management     0.205444\n",
       "St. Angela's Sligo                      0.051361\n",
       "Trinity College Dublin                 18.079096\n",
       "University College Cork                 7.986646\n",
       "University College Dublin              26.938880\n",
       "University of Limerick                  2.054443\n",
       "University of Ulster                    0.128403\n",
       "Waterford Institue of Technology        0.487930\n",
       "Name: destinationnumber, dtype: float64"
      ]
     },
     "execution_count": 15,
     "metadata": {},
     "output_type": "execute_result"
    }
   ],
   "source": [
    "(100 * schoolframe[schoolframe['private'].str.contains('True')].groupby('destination').sum()['destinationnumber'] ) / schoolframe[schoolframe['private'].str.contains('True')].sum()['destinationnumber']"
   ]
  },
  {
   "cell_type": "code",
   "execution_count": 11,
   "metadata": {
    "collapsed": false
   },
   "outputs": [
    {
     "data": {
      "text/plain": [
       "destination\n",
       "Athlone IT                              947\n",
       "Church of Ireland College                18\n",
       "Cork IT                                2002\n",
       "Dublin City University                 2713\n",
       "Dublin Institute of Technology         2682\n",
       "Dun Laoghaire IADT                      444\n",
       "Dundalk IT                             1084\n",
       "Galway-Mayo IT                         1447\n",
       "IT Blanchardstown                       806\n",
       "IT Carlow                              1176\n",
       "IT Sligo                               1013\n",
       "IT Tallaght                             724\n",
       "IT Tralee                               655\n",
       "Letterkenny IT                          834\n",
       "Limerick IT                            1387\n",
       "Marino Institute of Education           163\n",
       "Mary Immaculate Limerick                837\n",
       "Maynooth University                    2508\n",
       "NUI Galway                             2720\n",
       "National College of Art and Design      223\n",
       "National College of Ireland             467\n",
       "Queen's University, Belfast              42\n",
       "Royal College of Surgeons                92\n",
       "Shannon College of Hotel Management      59\n",
       "St. Angela's Sligo                      132\n",
       "Trinity College Dublin                 1681\n",
       "University College Cork                3128\n",
       "University College Dublin              2742\n",
       "University of Limerick                 2512\n",
       "University of Ulster                     57\n",
       "Waterford Institue of Technology       1861\n",
       "Name: destinationnumber, dtype: int64"
      ]
     },
     "execution_count": 11,
     "metadata": {},
     "output_type": "execute_result"
    }
   ],
   "source": [
    "schoolframe[schoolframe['private'].str.contains('False')].groupby('destination').sum()['destinationnumber']"
   ]
  },
  {
   "cell_type": "code",
   "execution_count": 16,
   "metadata": {
    "collapsed": false
   },
   "outputs": [
    {
     "data": {
      "text/plain": [
       "destination\n",
       "Athlone IT                             2.548714\n",
       "Church of Ireland College              0.048444\n",
       "Cork IT                                5.388093\n",
       "Dublin City University                 7.301647\n",
       "Dublin Institute of Technology         7.218215\n",
       "Dun Laoghaire IADT                     1.194962\n",
       "Dundalk IT                             2.917429\n",
       "Galway-Mayo IT                         3.894391\n",
       "IT Blanchardstown                      2.169232\n",
       "IT Carlow                              3.165034\n",
       "IT Sligo                               2.726343\n",
       "IT Tallaght                            1.948541\n",
       "IT Tralee                              1.762838\n",
       "Letterkenny IT                         2.244590\n",
       "Limerick IT                            3.732910\n",
       "Marino Institute of Education          0.438691\n",
       "Mary Immaculate Limerick               2.252664\n",
       "Maynooth University                    6.749919\n",
       "NUI Galway                             7.320487\n",
       "National College of Art and Design     0.600172\n",
       "National College of Ireland            1.256863\n",
       "Queen's University, Belfast            0.113037\n",
       "Royal College of Surgeons              0.247605\n",
       "Shannon College of Hotel Management    0.158790\n",
       "St. Angela's Sligo                     0.355259\n",
       "Trinity College Dublin                 4.524168\n",
       "University College Cork                8.418560\n",
       "University College Dublin              7.379696\n",
       "University of Limerick                 6.760685\n",
       "University of Ulster                   0.153407\n",
       "Waterford Institue of Technology       5.008612\n",
       "Name: destinationnumber, dtype: float64"
      ]
     },
     "execution_count": 16,
     "metadata": {},
     "output_type": "execute_result"
    }
   ],
   "source": [
    "(100 * schoolframe[schoolframe['private'].str.contains('False')].groupby('destination').sum()['destinationnumber'] ) / schoolframe[schoolframe['private'].str.contains('False')].sum()['destinationnumber']"
   ]
  },
  {
   "cell_type": "code",
   "execution_count": null,
   "metadata": {
    "collapsed": true
   },
   "outputs": [],
   "source": []
  }
 ],
 "metadata": {
  "kernelspec": {
   "display_name": "Python 2",
   "language": "python",
   "name": "python2"
  },
  "language_info": {
   "codemirror_mode": {
    "name": "ipython",
    "version": 2
   },
   "file_extension": ".py",
   "mimetype": "text/x-python",
   "name": "python",
   "nbconvert_exporter": "python",
   "pygments_lexer": "ipython2",
   "version": "2.7.10"
  }
 },
 "nbformat": 4,
 "nbformat_minor": 0
}
